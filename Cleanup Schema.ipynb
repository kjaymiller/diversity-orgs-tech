{
 "cells": [
  {
   "cell_type": "code",
   "execution_count": 1,
   "id": "essential-huntington",
   "metadata": {},
   "outputs": [],
   "source": [
    "import pandas as pd"
   ]
  },
  {
   "cell_type": "code",
   "execution_count": 4,
   "id": "boolean-thumbnail",
   "metadata": {},
   "outputs": [],
   "source": [
    "df = pd.from_json('diversityorgs.tech.json').fillna('')"
   ]
  },
  {
   "cell_type": "code",
   "execution_count": 24,
   "id": "computational-brave",
   "metadata": {},
   "outputs": [],
   "source": [
    "df = df.drop(columns=['website', 'region', 'notes', 'github', 'twitter', 'meetup'])"
   ]
  },
  {
   "cell_type": "code",
   "execution_count": 16,
   "id": "joined-direction",
   "metadata": {},
   "outputs": [],
   "source": [
    "def update_links(row):\n",
    "    if not row.links:\n",
    "        links = []\n",
    "        if row.twitter:\n",
    "            links.append(row.twitter)\n",
    "        if row.github:\n",
    "            links.append(row.github)\n",
    "        if row.meetup:\n",
    "            links.append(row.meetup)\n",
    "        row.links = links"
   ]
  },
  {
   "cell_type": "code",
   "execution_count": 17,
   "id": "portable-democracy",
   "metadata": {},
   "outputs": [
    {
     "data": {
      "text/plain": [
       "0      None\n",
       "1      None\n",
       "2      None\n",
       "3      None\n",
       "4      None\n",
       "       ... \n",
       "489    None\n",
       "490    None\n",
       "491    None\n",
       "492    None\n",
       "493    None\n",
       "Length: 494, dtype: object"
      ]
     },
     "execution_count": 17,
     "metadata": {},
     "output_type": "execute_result"
    }
   ],
   "source": [
    "df.apply(lambda x:update_links(x), axis=1)"
   ]
  },
  {
   "cell_type": "code",
   "execution_count": 25,
   "id": "bronze-aggregate",
   "metadata": {},
   "outputs": [
    {
     "data": {
      "text/html": [
       "<div>\n",
       "<style scoped>\n",
       "    .dataframe tbody tr th:only-of-type {\n",
       "        vertical-align: middle;\n",
       "    }\n",
       "\n",
       "    .dataframe tbody tr th {\n",
       "        vertical-align: top;\n",
       "    }\n",
       "\n",
       "    .dataframe thead th {\n",
       "        text-align: right;\n",
       "    }\n",
       "</style>\n",
       "<table border=\"1\" class=\"dataframe\">\n",
       "  <thead>\n",
       "    <tr style=\"text-align: right;\">\n",
       "      <th></th>\n",
       "      <th>name</th>\n",
       "      <th>technology_focus</th>\n",
       "      <th>id</th>\n",
       "      <th>url</th>\n",
       "      <th>links</th>\n",
       "      <th>organization_logo</th>\n",
       "      <th>global_org_url_from_parent_organization</th>\n",
       "      <th>donate</th>\n",
       "      <th>diversity_focus</th>\n",
       "      <th>city</th>\n",
       "      <th>parent_organization</th>\n",
       "    </tr>\n",
       "  </thead>\n",
       "  <tbody>\n",
       "    <tr>\n",
       "      <th>0</th>\n",
       "      <td>Women Who Code  Sacramento</td>\n",
       "      <td>[General Technology]</td>\n",
       "      <td>da34fccf17ddf90fdd86d3db5032dbfee0276ea7</td>\n",
       "      <td>https://womenwhocode.com/sacramento</td>\n",
       "      <td>[]</td>\n",
       "      <td>https://kjaymiller.s3-us-west-2.amazonaws.com/...</td>\n",
       "      <td>https://womenwhocode.org</td>\n",
       "      <td></td>\n",
       "      <td>[Women in Tech]</td>\n",
       "      <td>Sacramento, USA</td>\n",
       "      <td>Women Who Code</td>\n",
       "    </tr>\n",
       "    <tr>\n",
       "      <th>1</th>\n",
       "      <td>Women Who Code  Delhi</td>\n",
       "      <td>[General Technology]</td>\n",
       "      <td>c381510996558522bea62e89e20fed9799c02b8e</td>\n",
       "      <td>https://womenwhocode.com/delhi</td>\n",
       "      <td>[]</td>\n",
       "      <td>https://kjaymiller.s3-us-west-2.amazonaws.com/...</td>\n",
       "      <td>https://womenwhocode.org</td>\n",
       "      <td></td>\n",
       "      <td>[Women in Tech]</td>\n",
       "      <td>Delhi, India</td>\n",
       "      <td>Women Who Code</td>\n",
       "    </tr>\n",
       "    <tr>\n",
       "      <th>2</th>\n",
       "      <td>Women Who Code  Berlin</td>\n",
       "      <td>[General Technology]</td>\n",
       "      <td>e9c55454abfc845458880962bb3c26c2bbe6f871</td>\n",
       "      <td>https://womenwhocode.com/berlin</td>\n",
       "      <td>[]</td>\n",
       "      <td>https://kjaymiller.s3-us-west-2.amazonaws.com/...</td>\n",
       "      <td>https://womenwhocode.org</td>\n",
       "      <td></td>\n",
       "      <td>[Women in Tech]</td>\n",
       "      <td>Berlin, Germany</td>\n",
       "      <td>Women Who Code</td>\n",
       "    </tr>\n",
       "    <tr>\n",
       "      <th>3</th>\n",
       "      <td>Women Who Code  Data Science</td>\n",
       "      <td>[General Technology]</td>\n",
       "      <td>3804b4191dab056cf7b3ce2590474529c5e1e876</td>\n",
       "      <td>https://womenwhocode.com/datascience</td>\n",
       "      <td>[]</td>\n",
       "      <td>https://kjaymiller.s3-us-west-2.amazonaws.com/...</td>\n",
       "      <td>https://womenwhocode.org</td>\n",
       "      <td></td>\n",
       "      <td>[Women in Tech]</td>\n",
       "      <td>Data Science, Global</td>\n",
       "      <td>Women Who Code</td>\n",
       "    </tr>\n",
       "    <tr>\n",
       "      <th>4</th>\n",
       "      <td>Women Who Code  Monterrey</td>\n",
       "      <td>[General Technology]</td>\n",
       "      <td>bf1aa3d4698df16edb3a5a99fa5febacfbdb5921</td>\n",
       "      <td>https://womenwhocode.com/monterrey</td>\n",
       "      <td>[]</td>\n",
       "      <td>https://kjaymiller.s3-us-west-2.amazonaws.com/...</td>\n",
       "      <td>https://womenwhocode.org</td>\n",
       "      <td></td>\n",
       "      <td>[Women in Tech]</td>\n",
       "      <td>Monterrey, Mexico</td>\n",
       "      <td>Women Who Code</td>\n",
       "    </tr>\n",
       "  </tbody>\n",
       "</table>\n",
       "</div>"
      ],
      "text/plain": [
       "                           name      technology_focus  \\\n",
       "0    Women Who Code  Sacramento  [General Technology]   \n",
       "1         Women Who Code  Delhi  [General Technology]   \n",
       "2        Women Who Code  Berlin  [General Technology]   \n",
       "3  Women Who Code  Data Science  [General Technology]   \n",
       "4     Women Who Code  Monterrey  [General Technology]   \n",
       "\n",
       "                                         id  \\\n",
       "0  da34fccf17ddf90fdd86d3db5032dbfee0276ea7   \n",
       "1  c381510996558522bea62e89e20fed9799c02b8e   \n",
       "2  e9c55454abfc845458880962bb3c26c2bbe6f871   \n",
       "3  3804b4191dab056cf7b3ce2590474529c5e1e876   \n",
       "4  bf1aa3d4698df16edb3a5a99fa5febacfbdb5921   \n",
       "\n",
       "                                    url links  \\\n",
       "0   https://womenwhocode.com/sacramento    []   \n",
       "1        https://womenwhocode.com/delhi    []   \n",
       "2       https://womenwhocode.com/berlin    []   \n",
       "3  https://womenwhocode.com/datascience    []   \n",
       "4    https://womenwhocode.com/monterrey    []   \n",
       "\n",
       "                                   organization_logo  \\\n",
       "0  https://kjaymiller.s3-us-west-2.amazonaws.com/...   \n",
       "1  https://kjaymiller.s3-us-west-2.amazonaws.com/...   \n",
       "2  https://kjaymiller.s3-us-west-2.amazonaws.com/...   \n",
       "3  https://kjaymiller.s3-us-west-2.amazonaws.com/...   \n",
       "4  https://kjaymiller.s3-us-west-2.amazonaws.com/...   \n",
       "\n",
       "  global_org_url_from_parent_organization donate  diversity_focus  \\\n",
       "0                https://womenwhocode.org         [Women in Tech]   \n",
       "1                https://womenwhocode.org         [Women in Tech]   \n",
       "2                https://womenwhocode.org         [Women in Tech]   \n",
       "3                https://womenwhocode.org         [Women in Tech]   \n",
       "4                https://womenwhocode.org         [Women in Tech]   \n",
       "\n",
       "                   city parent_organization  \n",
       "0       Sacramento, USA      Women Who Code  \n",
       "1          Delhi, India      Women Who Code  \n",
       "2       Berlin, Germany      Women Who Code  \n",
       "3  Data Science, Global      Women Who Code  \n",
       "4     Monterrey, Mexico      Women Who Code  "
      ]
     },
     "execution_count": 25,
     "metadata": {},
     "output_type": "execute_result"
    }
   ],
   "source": [
    "df.head()"
   ]
  },
  {
   "cell_type": "code",
   "execution_count": 19,
   "id": "cardiovascular-lotus",
   "metadata": {},
   "outputs": [
    {
     "data": {
      "text/html": [
       "<div>\n",
       "<style scoped>\n",
       "    .dataframe tbody tr th:only-of-type {\n",
       "        vertical-align: middle;\n",
       "    }\n",
       "\n",
       "    .dataframe tbody tr th {\n",
       "        vertical-align: top;\n",
       "    }\n",
       "\n",
       "    .dataframe thead th {\n",
       "        text-align: right;\n",
       "    }\n",
       "</style>\n",
       "<table border=\"1\" class=\"dataframe\">\n",
       "  <thead>\n",
       "    <tr style=\"text-align: right;\">\n",
       "      <th></th>\n",
       "      <th>name</th>\n",
       "      <th>twitter</th>\n",
       "      <th>technology_focus</th>\n",
       "      <th>github</th>\n",
       "      <th>id</th>\n",
       "      <th>website</th>\n",
       "      <th>meetup</th>\n",
       "      <th>region</th>\n",
       "      <th>notes</th>\n",
       "      <th>url</th>\n",
       "      <th>links</th>\n",
       "      <th>organization_logo</th>\n",
       "      <th>global_org_url_from_parent_organization</th>\n",
       "      <th>donate</th>\n",
       "      <th>diversity_focus</th>\n",
       "      <th>city</th>\n",
       "      <th>parent_organization</th>\n",
       "    </tr>\n",
       "  </thead>\n",
       "  <tbody>\n",
       "  </tbody>\n",
       "</table>\n",
       "</div>"
      ],
      "text/plain": [
       "Empty DataFrame\n",
       "Columns: [name, twitter, technology_focus, github, id, website, meetup, region, notes, url, links, organization_logo, global_org_url_from_parent_organization, donate, diversity_focus, city, parent_organization]\n",
       "Index: []"
      ]
     },
     "execution_count": 19,
     "metadata": {},
     "output_type": "execute_result"
    }
   ],
   "source": [
    "df[df['twitter'] != '']"
   ]
  },
  {
   "cell_type": "code",
   "execution_count": 26,
   "id": "legendary-houston",
   "metadata": {},
   "outputs": [],
   "source": [
    "df.to_json('updated_diversityorgs.tech.json', orient=\"records\")"
   ]
  }
 ],
 "metadata": {
  "kernelspec": {
   "display_name": "Python 3",
   "language": "python",
   "name": "python3"
  },
  "language_info": {
   "codemirror_mode": {
    "name": "ipython",
    "version": 3
   },
   "file_extension": ".py",
   "mimetype": "text/x-python",
   "name": "python",
   "nbconvert_exporter": "python",
   "pygments_lexer": "ipython3",
   "version": "3.9.1"
  }
 },
 "nbformat": 4,
 "nbformat_minor": 5
}
